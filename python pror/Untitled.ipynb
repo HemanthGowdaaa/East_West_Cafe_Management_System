{
 "cells": [
  {
   "cell_type": "code",
   "execution_count": null,
   "id": "f1bd18aa",
   "metadata": {},
   "outputs": [],
   "source": [
    "kilometer=5.5\n",
    "conv_fac=0.621372\n",
    "miles=kilometers\n"
   ]
  }
 ],
 "metadata": {
  "kernelspec": {
   "display_name": "Python 3 (ipykernel)",
   "language": "python",
   "name": "python3"
  },
  "language_info": {
   "codemirror_mode": {
    "name": "ipython",
    "version": 3
   },
   "file_extension": ".py",
   "mimetype": "text/x-python",
   "name": "python",
   "nbconvert_exporter": "python",
   "pygments_lexer": "ipython3",
   "version": "3.10.11"
  }
 },
 "nbformat": 4,
 "nbformat_minor": 5
}
